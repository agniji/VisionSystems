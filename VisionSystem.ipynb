{
  "nbformat": 4,
  "nbformat_minor": 0,
  "metadata": {
    "colab": {
      "provenance": [],
      "authorship_tag": "ABX9TyMDReF9as7nc0WhxmdgAeHL",
      "include_colab_link": true
    },
    "kernelspec": {
      "name": "python3",
      "display_name": "Python 3"
    },
    "language_info": {
      "name": "python"
    }
  },
  "cells": [
    {
      "cell_type": "markdown",
      "metadata": {
        "id": "view-in-github",
        "colab_type": "text"
      },
      "source": [
        "<a href=\"https://colab.research.google.com/github/agniji/VisionSystems/blob/main/VisionSystem.ipynb\" target=\"_parent\"><img src=\"https://colab.research.google.com/assets/colab-badge.svg\" alt=\"Open In Colab\"/></a>"
      ]
    },
    {
      "cell_type": "markdown",
      "source": [
        "#Dataset Preparation"
      ],
      "metadata": {
        "id": "6I47L_Ivi0Hr"
      }
    },
    {
      "cell_type": "code",
      "execution_count": null,
      "metadata": {
        "id": "WKPi-9-hiFPX"
      },
      "outputs": [],
      "source": [
        "/dataset\n",
        "    /class_1\n",
        "        img1.jpg\n",
        "        img2.jpg\n",
        "    /class_2\n",
        "        img1.jpg\n",
        "        img2.jpg\n"
      ]
    },
    {
      "cell_type": "markdown",
      "source": [
        "##Load & Transform Dataset"
      ],
      "metadata": {
        "id": "x1RMNLNGiNGm"
      }
    },
    {
      "cell_type": "code",
      "source": [
        "import torch\n",
        "import torchvision.transforms as transforms\n",
        "import torchvision.datasets as datasets\n",
        "from torch.utils.data import DataLoader\n",
        "\n",
        "# Define image transformations\n",
        "transform = transforms.Compose([\n",
        "    transforms.Resize((224, 224)),\n",
        "    transforms.ToTensor(),\n",
        "    transforms.Normalize(mean=[0.485, 0.456, 0.406], std=[0.229, 0.224, 0.225]),\n",
        "])\n",
        "\n",
        "# Load dataset\n",
        "data_dir = \"dataset\"\n",
        "train_dataset = datasets.ImageFolder(root=data_dir, transform=transform)\n",
        "train_loader = DataLoader(train_dataset, batch_size=16, shuffle=True)\n",
        "\n",
        "# Get number of classes\n",
        "num_classes = len(train_dataset.classes)\n",
        "print(\"Classes:\", train_dataset.classes)\n"
      ],
      "metadata": {
        "id": "68cRN8tMiIJk"
      },
      "execution_count": null,
      "outputs": []
    },
    {
      "cell_type": "markdown",
      "source": [
        "##Define & Train a Custom Model"
      ],
      "metadata": {
        "id": "U0XIJngQiXCH"
      }
    },
    {
      "cell_type": "code",
      "source": [
        "import torch.nn as nn\n",
        "import torchvision.models as models\n",
        "import torch.optim as optim\n",
        "\n",
        "# Load pre-trained ResNet and modify the final layer\n",
        "# Try resnet50 or inception later on\n",
        "model = models.resnet18(pretrained=False)  # Train from scratch\n",
        "model.fc = nn.Linear(model.fc.in_features, num_classes)  # Modify final layer\n",
        "\n",
        "# Move model to GPU if available\n",
        "device = torch.device(\"cuda\" if torch.cuda.is_available() else \"cpu\")\n",
        "model = model.to(device)\n",
        "\n",
        "# Define loss and optimizer\n",
        "criterion = nn.CrossEntropyLoss()\n",
        "optimizer = optim.Adam(model.parameters(), lr=0.001)\n",
        "\n",
        "# Training loop\n",
        "num_epochs = 10\n",
        "for epoch in range(num_epochs):\n",
        "    for images, labels in train_loader:\n",
        "        images, labels = images.to(device), labels.to(device)\n",
        "\n",
        "        optimizer.zero_grad()\n",
        "        outputs = model(images)\n",
        "        loss = criterion(outputs, labels)\n",
        "        loss.backward()\n",
        "        optimizer.step()\n",
        "\n",
        "    print(f\"Epoch [{epoch+1}/{num_epochs}], Loss: {loss.item():.4f}\")\n",
        "\n",
        "# Save the trained model\n",
        "torch.save(model.state_dict(), \"custom_model.pth\")\n",
        "print(\"Model training complete!\")\n"
      ],
      "metadata": {
        "id": "WXgN7W7riXR1"
      },
      "execution_count": null,
      "outputs": []
    },
    {
      "cell_type": "markdown",
      "source": [
        "##Real-Time Inference with Your Custom Model"
      ],
      "metadata": {
        "id": "UYYDj5XkifF8"
      }
    },
    {
      "cell_type": "code",
      "source": [
        "from PIL import Image\n",
        "import cv2\n",
        "import numpy as np\n",
        "\n",
        "# Load trained model\n",
        "model.load_state_dict(torch.load(\"custom_model.pth\"))\n",
        "model.eval()\n",
        "\n",
        "# Function to classify a new image\n",
        "def classify_image(image):\n",
        "    image = transform(image).unsqueeze(0).to(device)\n",
        "\n",
        "    with torch.no_grad():\n",
        "        output = model(image)\n",
        "        predicted_class = torch.argmax(output).item()\n",
        "\n",
        "    return train_dataset.classes[predicted_class]\n",
        "\n",
        "# Capture and classify live video frames\n",
        "cap = cv2.VideoCapture(0)\n",
        "while True:\n",
        "    ret, frame = cap.read()\n",
        "    if not ret:\n",
        "        break\n",
        "\n",
        "    # Convert OpenCV BGR image to PIL Image\n",
        "    image = Image.fromarray(cv2.cvtColor(frame, cv2.COLOR_BGR2RGB))\n",
        "    label = classify_image(image)\n",
        "\n",
        "    # Display result\n",
        "    cv2.putText(frame, f\"Class: {label}\", (50, 50), cv2.FONT_HERSHEY_SIMPLEX, 1, (255, 0, 0), 2)\n",
        "    cv2.imshow(\"Live Classification\", frame)\n",
        "\n",
        "    if cv2.waitKey(1) & 0xFF == ord('q'):\n",
        "        break\n",
        "\n",
        "cap.release()\n",
        "cv2.destroyAllWindows()\n"
      ],
      "metadata": {
        "id": "nSwzotjWijgh"
      },
      "execution_count": null,
      "outputs": []
    }
  ]
}